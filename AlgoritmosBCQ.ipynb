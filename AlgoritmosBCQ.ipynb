{
 "cells": [
  {
   "cell_type": "code",
   "execution_count": 20,
   "id": "royal-middle",
   "metadata": {},
   "outputs": [],
   "source": [
    "%matplotlib inline\n",
    "# Importing standard Qiskit libraries\n",
    "from qiskit import QuantumCircuit, execute, Aer, IBMQ\n",
    "from qiskit.compiler import transpile, assemble\n",
    "from qiskit.tools.jupyter import *\n",
    "from qiskit.visualization import *\n",
    "from ibm_quantum_widgets import *\n",
    "# Loading your IBM Q account(s)\n",
    "provider = IBMQ.load_account()"
   ]
  },
  {
   "cell_type": "markdown",
   "id": "restricted-cyprus",
   "metadata": {},
   "source": [
    "<h1 style=\"text-align:center;\"><b>Algoritmos de Búsqueda Clásicos y Cuántico</b></h1>"
   ]
  },
  {
   "cell_type": "markdown",
   "id": "alive-drill",
   "metadata": {},
   "source": [
    "<h3 style=\"text-align:left;\">Algoritmos de búsqueda clásicos</h3>\n"
   ]
  },
  {
   "cell_type": "markdown",
   "id": "checked-sustainability",
   "metadata": {},
   "source": [
    "<label><b>Búsqueda Lineal o Secuencial</b></label>"
   ]
  },
  {
   "cell_type": "code",
   "execution_count": 6,
   "id": "identical-magic",
   "metadata": {},
   "outputs": [
    {
     "name": "stdout",
     "output_type": "stream",
     "text": [
      "10\n"
     ]
    }
   ],
   "source": [
    "def busqueda_lineal(lista, x):\n",
    "i = 0\t\t \n",
    "\n",
    "for z in lista:\t\n",
    "if z == x:\t\n",
    "return i \n",
    "i=i+1\t\n",
    "\n",
    "return -1\n",
    "\n",
    "print(busqueda_lineal([5, 15, 25, 30, 88, 45, 50, 78, 67, 100, 150], 150))"
   ]
  },
  {
   "cell_type": "markdown",
   "id": "amateur-medium",
   "metadata": {},
   "source": [
    "<label><b>Búsqueda Binaria o dicotómica<b></label>"
   ]
  },
  {
   "cell_type": "code",
   "execution_count": 11,
   "id": "transsexual-taste",
   "metadata": {},
   "outputs": [
    {
     "name": "stdout",
     "output_type": "stream",
     "text": [
      "7\n"
     ]
    }
   ],
   "source": [
    "def busqueda_binaria(lis, val):  \n",
    "\n",
    "    ini = 0\n",
    "    fin = len(lis)-1\n",
    "    index = -1\n",
    "\n",
    "    while (ini <= fin) and (index == -1):\t\n",
    "        mit = (ini+fin)//2\t\t\t\t\t\n",
    "        \n",
    "        if lis[mit] == val:\n",
    "            index = mit\n",
    "        else:\n",
    "            if val < lis[mit]:\n",
    "                fin = mit -1\n",
    "            else:\n",
    "                ini = mit +1\n",
    "    \n",
    "    return index\n",
    "\n",
    "print(busqueda_binaria([5, 15, 25, 30, 45, 50, 67, 78, 88, 100,\t150], 78))"
   ]
  },
  {
   "cell_type": "markdown",
   "id": "straight-advance",
   "metadata": {},
   "source": [
    "<label><b>Búsqueda Exponencial o al galope</b></label>"
   ]
  },
  {
   "cell_type": "code",
   "execution_count": null,
   "id": "welcome-story",
   "metadata": {},
   "outputs": [],
   "source": [
    "def busqueda_exponencial(lis, val):\n",
    "    arr = []\n",
    "\n",
    "    if lis[0] == val:\n",
    "        return 0\n",
    "    else:   \n",
    "        index = 1\n",
    "\n",
    "        while index < len(lis) and lis[index] <= val:\n",
    "            index *= 2\n",
    "            print(index)\n",
    "    return busqueda_binaria(arr[:min(index, len(lis))], val)\n",
    "\n",
    "print(busqueda_exponencial([1,2,3,4,5,6,7,8],3))"
   ]
  },
  {
   "cell_type": "markdown",
   "id": "dying-performer",
   "metadata": {},
   "source": [
    "<label><b>Búsqueda de Interpolación</b></label>"
   ]
  },
  {
   "cell_type": "code",
   "execution_count": 18,
   "id": "vulnerable-generator",
   "metadata": {},
   "outputs": [
    {
     "name": "stdout",
     "output_type": "stream",
     "text": [
      "5\n"
     ]
    }
   ],
   "source": [
    "def busqueda_interpolacion(lis, val):  \n",
    "    x1 = 0\n",
    "    x2 = (len(lis) - 1)\n",
    "    \n",
    "    while x1 <= x2 and val >= lis[x1] and val <= lis[x2]:\n",
    "        index = x1 + int(((float(x2 - x1) / ( lis[x2] - lis[x1])) * ( val - lis[x1])))\n",
    "        if lis[index] == val:\n",
    "            return index\n",
    "        if lis[index] < val:\n",
    "            x1 = index + 1;\n",
    "        else:\n",
    "            x2 = index - 1;\n",
    "            \n",
    "    return -1\n",
    "\n",
    "print(busqueda_interpolacion([1,2,3,4,5,6,7,8], 6))"
   ]
  },
  {
   "cell_type": "markdown",
   "id": "eligible-newman",
   "metadata": {},
   "source": [
    "<label><b>Búsqueda de Salto</b></label>"
   ]
  },
  {
   "cell_type": "code",
   "execution_count": 44,
   "id": "clean-present",
   "metadata": {},
   "outputs": [
    {
     "name": "stdout",
     "output_type": "stream",
     "text": [
      "4\n"
     ]
    }
   ],
   "source": [
    "import math\n",
    "\n",
    "def busqueda_salto(lis, val):  \n",
    "    \n",
    "    v1 = len(lis)\n",
    "    salto = int(math.sqrt(v1))\n",
    "    izq, der = 0, 0\n",
    "    \n",
    "    while izq < v1 and lis[izq] <= val:\n",
    "        \n",
    "        der = min(v1 - 1, izq + salto)\n",
    "        \n",
    "        if lis[izq] <= val and lis[der] >= val:\n",
    "            break\n",
    "        izq += salto;\n",
    "    \n",
    "    if izq >= v1 or lis[izq] > val:\n",
    "        return -1\n",
    "    \n",
    "    der = min(v1 - 1, der)\n",
    "    i = izq\n",
    "    \n",
    "    while i <= der and lis[i] <= val:\n",
    "        if lis[i] == val:\n",
    "            return i\n",
    "        i += 1\n",
    "    \n",
    "    return -1\n",
    "\n",
    "print(busqueda_salto([1,2,3,4,5,6,7,8,9], 5))"
   ]
  },
  {
   "cell_type": "markdown",
   "id": "ahead-sustainability",
   "metadata": {},
   "source": [
    "<label><b>Búsqueda Ternaria</b></label>"
   ]
  },
  {
   "cell_type": "code",
   "execution_count": null,
   "id": "exciting-apollo",
   "metadata": {},
   "outputs": [],
   "source": [
    "def busqueda_ternaria(f, l, r, absolutePrecision):   \n",
    "    \n",
    "    while True:\n",
    "        #l and r son los límites actuales; el máximo está entre ellos\n",
    "        if abs(r - l) < absolutePrecision:\n",
    "            return (l + r)/2\n",
    "\n",
    "        m1 = l + (r - l)/3\n",
    "        m2 = r - (r - l)/3\n",
    "\n",
    "        if f(m1) < f(m2):\n",
    "            l = m1\n",
    "        else:\n",
    "            r = m2\n",
    "            \n",
    "print(busqueda_ternaria([1,2,3,4,5,6,7,8,9], 1, 9, 3))"
   ]
  },
  {
   "cell_type": "markdown",
   "id": "eleven-commonwealth",
   "metadata": {},
   "source": [
    "<label><b>Búsqueda por transformación de claves o Hash</b></label>"
   ]
  },
  {
   "cell_type": "code",
   "execution_count": 43,
   "id": "increased-medicine",
   "metadata": {},
   "outputs": [
    {
     "name": "stdout",
     "output_type": "stream",
     "text": [
      "{0: 'Null', 1: 'Null', 2: 'Null', 3: 'Null', 4: 'Null', 5: 'Null', 6: 'Null', 7: 'Null', 8: 'Null', 9: 'Null', 10: 'Null'}\n",
      "{0: 77, 1: 'Null', 2: 'Null', 3: 'Null', 4: 26, 5: 93, 6: 17, 7: 'Null', 8: 'Null', 9: 31, 10: 54}\n",
      "93\n"
     ]
    }
   ],
   "source": [
    "dic = {}\n",
    "lish = [54, 26, 93, 17, 77, 31]\n",
    "numele = 11\n",
    "\n",
    "for c in range(0, numele):\n",
    "    dic[c] = 'Null'\n",
    "\n",
    "print(dic)\n",
    "\n",
    "for i in lish:\n",
    "    h = i % len(dic)\n",
    "    dic[h] = i\n",
    "    #print(i,'=',h)\n",
    "print(dic)\n",
    "\n",
    "print(dic[5])"
   ]
  },
  {
   "cell_type": "markdown",
   "id": "polished-darkness",
   "metadata": {},
   "source": [
    "<label><b>Búsqueda en List</b></label>"
   ]
  },
  {
   "cell_type": "code",
   "execution_count": 27,
   "id": "published-coaching",
   "metadata": {},
   "outputs": [
    {
     "name": "stdout",
     "output_type": "stream",
     "text": [
      "True\n",
      "7\n"
     ]
    }
   ],
   "source": [
    "lis1 = [1,2,3,4,5,6,7,8,9]\n",
    "\n",
    "print(8 in lis1)\n",
    "print(lis1.index(8))"
   ]
  },
  {
   "cell_type": "markdown",
   "id": "cellular-strain",
   "metadata": {},
   "source": [
    "<label><b>Búsqueda en Diccionarios</b></label>"
   ]
  },
  {
   "cell_type": "code",
   "execution_count": 29,
   "id": "extended-bachelor",
   "metadata": {},
   "outputs": [
    {
     "name": "stdout",
     "output_type": "stream",
     "text": [
      "[90, 100]\n"
     ]
    }
   ],
   "source": [
    "d1 = {'a': 50, 'b': 60, 'c': 80}\n",
    "d1['d'] = [90, 100]\n",
    "\n",
    "print(d1['d'])"
   ]
  },
  {
   "cell_type": "markdown",
   "id": "million-capacity",
   "metadata": {},
   "source": [
    "<h2>Algoritmo de búsqueda cuántico</h2>"
   ]
  },
  {
   "cell_type": "code",
   "execution_count": 41,
   "id": "cultural-colors",
   "metadata": {},
   "outputs": [
    {
     "name": "stdout",
     "output_type": "stream",
     "text": [
      "6 qubits, basis states [45, 40] marked, 4 rounds\n"
     ]
    },
    {
     "data": {
      "image/png": "[encoded data removed]",
      "text/plain": [
       "<Figure size 522.563x445.48 with 1 Axes>"
      ]
     },
     "execution_count": 41,
     "metadata": {},
     "output_type": "execute_result"
    }
   ],
   "source": [
    "#Grover para multiple busquedas\n",
    "\n",
    "from qiskit import *\n",
    "from qiskit.quantum_info import Operator\n",
    "from qiskit import Aer, execute\n",
    "from qiskit.visualization import plot_histogram\n",
    "from qiskit import QuantumCircuit\n",
    "import numpy as np\n",
    "\n",
    "def phase_oracle(n, indices_to_mark, name = 'Oracle'):\n",
    "    \n",
    "    # create a quantum circuit on n qubits\n",
    "    qc = QuantumCircuit(n, name=name)\n",
    "    # create the identity matrix on n qubits 32\n",
    "    oracle_matrix = np.identity(2**n)\n",
    "    # add the -1 phase to marked elements\n",
    "    for index_to_mark in indices_to_mark:\n",
    "        oracle_matrix[index_to_mark, index_to_mark] = -1\n",
    "    # convert your matrix (called oracle_matrix) into an operator, and add it to the quantum circuit\n",
    "    qc.unitary(Operator(oracle_matrix), range(n))\n",
    "    \n",
    "    gate = qc.to_gate()\n",
    "    gate.name = \"oracle\"\n",
    "    \n",
    "    return gate\n",
    "\n",
    "def diffuser(n):\n",
    "    \n",
    "    # create a quantum circuit on n qubits\n",
    "    qc = QuantumCircuit(n, name='Diffuser')    \n",
    "    # apply hadamard gates to all qubits\n",
    "    qc.h(range(n))\n",
    "    # call the phase oracle applied to the zero state\n",
    "    qc.append(phase_oracle(n, [0]), range(n))\n",
    "    \n",
    "    # apply hadamard gates to all qubits\n",
    "    qc.h(range(n))\n",
    "    \n",
    "    gate = qc.to_gate()\n",
    "    gate.name = \"difusor\"\n",
    "    \n",
    "    return gate\n",
    "\n",
    "def Grover(n, indices_of_marked_elements):\n",
    "    \n",
    "    # Create a quantum circuit on n qubits\n",
    "    qc = QuantumCircuit(n)    \n",
    "    # Determine r\n",
    "    r = int(np.floor(np.pi/4*np.sqrt(2**n/len(indices_of_marked_elements))))\n",
    "    print(f'{n} qubits, basis states {indices_of_marked_elements} marked, {r} rounds')\n",
    "    \n",
    "    # step 1: apply Hadamard gates on all qubits\n",
    "    qc.h(range(n))\n",
    "    \n",
    "    # step 2: apply r rounds of the phase oracle and the diffuser\n",
    "    for i in range(r):\n",
    "        qc.append(phase_oracle(n, indices_of_marked_elements), range(n))\n",
    "        qc.append(diffuser(n), range(n))\n",
    "        \n",
    "    # step 3: measure all qubits\n",
    "    #qc.measure(range(n), range(n))\n",
    "    \n",
    "    gate = qc.to_gate()\n",
    "    gate.name = \"G\"\n",
    "    \n",
    "    return gate\n",
    "\n",
    "########################################################\n",
    "#Main\n",
    "#########################################################\n",
    "n = 6\n",
    "marked =  [45,40]\n",
    "\n",
    "addr = QuantumRegister(n,'dir')\n",
    "\n",
    "c = ClassicalRegister(n)\n",
    "qc = QuantumCircuit(addr,c)\n",
    "\n",
    "qc.append(Grover(n,marked),addr[:])\n",
    "\n",
    "qc.measure(range(n), range(n))\n",
    "\n",
    "qc.draw()"
   ]
  },
  {
   "cell_type": "code",
   "execution_count": 42,
   "id": "threaded-columbus",
   "metadata": {},
   "outputs": [
    {
     "name": "stdout",
     "output_type": "stream",
     "text": [
      "{'101000': 518, '101101': 482}\n",
      "2\n"
     ]
    },
    {
     "data": {
      "image/png": "[encoded data removed]",
      "text/plain": [
       "<Figure size 504x360 with 1 Axes>"
      ]
     },
     "execution_count": 42,
     "metadata": {},
     "output_type": "execute_result"
    }
   ],
   "source": [
    "from qiskit import Aer, execute\n",
    "simulator = Aer.get_backend('qasm_simulator')\n",
    "counts = execute(qc, backend=simulator, shots=1000).result().get_counts(qc)\n",
    "from qiskit.visualization import plot_histogram\n",
    "print(counts)\n",
    "print(len(counts))\n",
    "plot_histogram(counts)"
   ]
  },
  {
   "cell_type": "code",
   "execution_count": null,
   "id": "interim-identifier",
   "metadata": {},
   "outputs": [],
   "source": []
  }
 ],
 "metadata": {
  "kernelspec": {
   "display_name": "Python 3",
   "language": "python",
   "name": "python3"
  },
  "language_info": {
   "codemirror_mode": {
    "name": "ipython",
    "version": 3
   },
   "file_extension": ".py",
   "mimetype": "text/x-python",
   "name": "python",
   "nbconvert_exporter": "python",
   "pygments_lexer": "ipython3",
   "version": "3.8.8"
  }
 },
 "nbformat": 4,
 "nbformat_minor": 5
}
